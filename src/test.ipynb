{
 "cells": [
  {
   "cell_type": "code",
   "execution_count": 1,
   "id": "44bb1797",
   "metadata": {},
   "outputs": [
    {
     "name": "stderr",
     "output_type": "stream",
     "text": [
      "c:\\Users\\Admin\\anaconda3\\envs\\OT\\lib\\site-packages\\cupy\\_environment.py:215: UserWarning: CUDA path could not be detected. Set CUDA_PATH environment variable if CuPy fails to load.\n",
      "  warnings.warn(\n",
      "c:\\Users\\Admin\\anaconda3\\envs\\OT\\lib\\site-packages\\tqdm\\auto.py:21: TqdmWarning: IProgress not found. Please update jupyter and ipywidgets. See https://ipywidgets.readthedocs.io/en/stable/user_install.html\n",
      "  from .autonotebook import tqdm as notebook_tqdm\n"
     ]
    }
   ],
   "source": [
    "import os\n",
    "import sys\n",
    "import json\n",
    "import numpy as np\n",
    "import pandas as pd\n",
    "from pathlib import Path\n",
    "import time\n",
    "\n",
    "sys.path.append('src')\n",
    "\n",
    "from utilities import run_knn, load_ucr_dataset, load_human_action_dataset\n"
   ]
  },
  {
   "cell_type": "code",
   "execution_count": 2,
   "id": "cec15959",
   "metadata": {},
   "outputs": [],
   "source": [
    "UCR_list = os.listdir(\"../data/UCR\")\n",
    "Human_Action_list = os.listdir(\"../data/Human_Actions\")\n",
    "saved_path = \"../results\"\n",
    "\n",
    "alg = \"FRT\"\n",
    "data = \"UCR\"  # or \"Human_Actions\""
   ]
  },
  {
   "cell_type": "code",
   "execution_count": null,
   "id": "4a287e8d",
   "metadata": {},
   "outputs": [
    {
     "name": "stdout",
     "output_type": "stream",
     "text": [
      "Processing UCR dataset: BasicMotions\n",
      "Successfully loaded dataset: BasicMotions\n",
      "Size of train data: 40\n",
      "Size of test data: 40\n",
      "[FRT] time_weight=88733.543031 | depth_shift=5 | w_avg=9.964542 | points=8000\n"
     ]
    },
    {
     "name": "stderr",
     "output_type": "stream",
     "text": [
      "FRT measures: 100%|██████████| 80/80 [00:00<?, ?it/s]\n",
      "FRT D_tr: 100%|██████████| 40/40 [00:14<00:00,  2.85it/s]\n",
      "FRT D_te: 100%|██████████| 40/40 [00:29<00:00,  1.38it/s]\n"
     ]
    },
    {
     "name": "stdout",
     "output_type": "stream",
     "text": [
      "Accuracy (k=1): 0.8000\n",
      "Accuracy (k=3): 0.7250\n",
      "Accuracy (k=5): 0.7250\n",
      "Accuracy (k=10): 0.6250\n",
      "Accuracy (k=15): 0.5500\n",
      "Accuracy (k=20): 0.2750\n",
      "Processing UCR dataset: BME\n",
      "Successfully loaded dataset: BME\n",
      "Size of train data: 30\n",
      "Size of test data: 150\n",
      "[FRT] time_weight=451.571480 | depth_shift=5 | w_avg=0.100111 | points=23040\n"
     ]
    },
    {
     "name": "stderr",
     "output_type": "stream",
     "text": [
      "FRT measures: 100%|██████████| 180/180 [00:00<00:00, 107073.43it/s]\n",
      "FRT D_tr:  40%|████      | 12/30 [00:02<00:02,  6.09it/s]"
     ]
    }
   ],
   "source": [
    "for dataset_name in (Human_Action_list if data == \"Human_Actions\" else UCR_list):\n",
    "    if data == \"Human_Actions\":\n",
    "        print(f\"Processing Human Action dataset: {dataset_name}\")\n",
    "        # Use the Human Action-specific loader for datasets under data/Human_Actions\n",
    "        X_train, y_train, X_test, y_test = load_human_action_dataset(\"../data/Human_Actions\", dataset_name)\n",
    "    elif data == \"UCR\":\n",
    "        print(f\"Processing UCR dataset: {dataset_name}\")\n",
    "        # Use the UCR-specific loader for datasets under data/UCR\n",
    "        X_train, y_train, X_test, y_test = load_ucr_dataset(\"../data/UCR\", dataset_name)\n",
    "        \n",
    "    total_secs = 0\n",
    "    start = time.time()\n",
    "    results = run_knn(X_train, y_train, X_test, y_test, alg=\"FRT\")\n",
    "    total_secs += time.time() - start\n",
    "    \n",
    "    out_path = Path(saved_path) / f\"knn_{alg}_results_{data}.csv\"\n",
    "    out_path.parent.mkdir(parents=True, exist_ok=True)\n",
    "\n",
    "    cols = ['dataset','acck=1','acck=3','acck=5','acck=10','acck=15','acck=20','build_tree_sec','distance_calc_sec', 'total_secs']\n",
    "    header_needed = not out_path.exists()\n",
    "\n",
    "    if isinstance(results, dict):\n",
    "        keys = [1, 3, 5, 10, 15, 20]\n",
    "        if alg == \"FRT\":\n",
    "            keys += ['build_tree_sec', 'distance_calc_sec']\n",
    "        vals = [results.get(k, '') for k in keys]\n",
    "    else:\n",
    "        vals = list(results)\n",
    "        if len(vals) < 8:\n",
    "            vals += [''] * (8 - len(vals))\n",
    "        vals = vals[:8]\n",
    "\n",
    "    with out_path.open('a', encoding='utf-8') as f:\n",
    "        if header_needed:\n",
    "            f.write(';'.join(cols) + '\\n')\n",
    "        f.write(';'.join([str(dataset_name)] + [str(v) for v in vals] + [str(total_secs)]) + '\\n')"
   ]
  }
 ],
 "metadata": {
  "kernelspec": {
   "display_name": "OT",
   "language": "python",
   "name": "python3"
  },
  "language_info": {
   "codemirror_mode": {
    "name": "ipython",
    "version": 3
   },
   "file_extension": ".py",
   "mimetype": "text/x-python",
   "name": "python",
   "nbconvert_exporter": "python",
   "pygments_lexer": "ipython3",
   "version": "3.10.18"
  }
 },
 "nbformat": 4,
 "nbformat_minor": 5
}
