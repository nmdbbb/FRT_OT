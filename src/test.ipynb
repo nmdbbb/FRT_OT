{
 "cells": [
  {
   "cell_type": "code",
   "execution_count": 2,
   "id": "44bb1797",
   "metadata": {},
   "outputs": [],
   "source": [
    "import os\n",
    "import sys\n",
    "import json\n",
    "import numpy as np\n",
    "import pandas as pd\n",
    "from pathlib import Path\n",
    "import time\n",
    "\n",
    "sys.path.append('src')\n",
    "\n",
    "from utilities import run_knn, load_ucr_dataset, load_human_action_dataset\n"
   ]
  },
  {
   "cell_type": "code",
   "execution_count": 3,
   "id": "cec15959",
   "metadata": {},
   "outputs": [],
   "source": [
    "UCR_list = os.listdir(\"../data/UCR\")\n",
    "Human_Action_list = os.listdir(\"../data/Human_Actions\")\n",
    "saved_path = \"../results\""
   ]
  },
  {
   "cell_type": "code",
   "execution_count": 4,
   "id": "4a287e8d",
   "metadata": {},
   "outputs": [
    {
     "name": "stdout",
     "output_type": "stream",
     "text": [
      "Processing UCR dataset: BasicMotions\n",
      "Successfully loaded dataset: BasicMotions\n",
      "Size of train data: 40\n",
      "Size of test data: 40\n",
      "[FRT] time_weight=88733.543031 | depth_shift=5 | w_avg=9.964542 | points=8000\n"
     ]
    },
    {
     "name": "stderr",
     "output_type": "stream",
     "text": [
      "FRT measures: 100%|██████████| 80/80 [00:00<?, ?it/s]\n",
      "FRT D_tr: 100%|██████████| 40/40 [00:14<00:00,  2.75it/s]\n",
      "FRT D_te: 100%|██████████| 40/40 [00:29<00:00,  1.35it/s]\n"
     ]
    },
    {
     "name": "stdout",
     "output_type": "stream",
     "text": [
      "Accuracy (k=1): 0.8000\n",
      "Accuracy (k=3): 0.7250\n",
      "Accuracy (k=5): 0.7250\n",
      "Accuracy (k=10): 0.6250\n",
      "Accuracy (k=15): 0.5500\n",
      "Accuracy (k=20): 0.2750\n",
      "Processing UCR dataset: BME\n",
      "Successfully loaded dataset: BME\n",
      "Size of train data: 30\n",
      "Size of test data: 150\n",
      "[FRT] time_weight=451.571480 | depth_shift=5 | w_avg=0.100111 | points=23040\n"
     ]
    },
    {
     "name": "stderr",
     "output_type": "stream",
     "text": [
      "FRT measures: 100%|██████████| 180/180 [00:00<00:00, 89643.16it/s]\n",
      "FRT D_tr: 100%|██████████| 30/30 [00:03<00:00,  8.87it/s]\n",
      "FRT D_te: 100%|██████████| 150/150 [00:34<00:00,  4.31it/s]\n"
     ]
    },
    {
     "name": "stdout",
     "output_type": "stream",
     "text": [
      "Accuracy (k=1): 0.8067\n",
      "Accuracy (k=3): 0.7667\n",
      "Accuracy (k=5): 0.7067\n",
      "Accuracy (k=10): 0.5600\n",
      "Accuracy (k=15): 0.4667\n",
      "Accuracy (k=20): 0.6000\n",
      "Processing UCR dataset: Chinatown\n",
      "Successfully loaded dataset: Chinatown\n",
      "Size of train data: 20\n",
      "Size of test data: 343\n",
      "[FRT] time_weight=179009108.897959 | depth_shift=5 | w_avg=69.062469 | points=8712\n"
     ]
    },
    {
     "name": "stderr",
     "output_type": "stream",
     "text": [
      "FRT measures: 100%|██████████| 363/363 [00:00<00:00, 90546.08it/s]\n",
      "FRT D_tr: 100%|██████████| 20/20 [00:01<00:00, 15.19it/s]\n",
      "FRT D_te: 100%|██████████| 343/343 [00:49<00:00,  6.97it/s]\n"
     ]
    },
    {
     "name": "stdout",
     "output_type": "stream",
     "text": [
      "Accuracy (k=1): 0.9359\n",
      "Accuracy (k=3): 0.9388\n",
      "Accuracy (k=5): 0.8688\n",
      "Accuracy (k=10): 0.9388\n",
      "Accuracy (k=15): 0.8455\n",
      "Accuracy (k=20): 0.2741\n",
      "Processing UCR dataset: DistalPhalanxTW\n",
      "Successfully loaded dataset: DistalPhalanxTW\n",
      "Size of train data: 400\n",
      "Size of test data: 139\n",
      "[FRT] time_weight=683.417970 | depth_shift=5 | w_avg=0.064911 | points=43120\n"
     ]
    },
    {
     "name": "stderr",
     "output_type": "stream",
     "text": [
      "FRT measures: 100%|██████████| 539/539 [00:00<00:00, 10646.95it/s]\n",
      "FRT D_tr: 100%|██████████| 400/400 [10:36<00:00,  1.59s/it]\n",
      "FRT D_te: 100%|██████████| 139/139 [05:20<00:00,  2.31s/it]\n"
     ]
    },
    {
     "name": "stdout",
     "output_type": "stream",
     "text": [
      "Accuracy (k=1): 0.6475\n",
      "Accuracy (k=3): 0.6691\n",
      "Accuracy (k=5): 0.6547\n",
      "Accuracy (k=10): 0.6547\n",
      "Accuracy (k=15): 0.6475\n",
      "Accuracy (k=20): 0.6475\n",
      "Processing UCR dataset: ItalyPowerDemand\n",
      "Successfully loaded dataset: ItalyPowerDemand\n",
      "Size of train data: 67\n",
      "Size of test data: 1029\n",
      "[FRT] time_weight=651.537806 | depth_shift=5 | w_avg=0.109589 | points=26304\n"
     ]
    },
    {
     "name": "stderr",
     "output_type": "stream",
     "text": [
      "FRT measures: 100%|██████████| 1096/1096 [00:00<00:00, 127191.56it/s]\n",
      "FRT D_tr: 100%|██████████| 67/67 [00:05<00:00, 12.33it/s]\n",
      "FRT D_te: 100%|██████████| 1029/1029 [02:54<00:00,  5.89it/s]\n"
     ]
    },
    {
     "name": "stdout",
     "output_type": "stream",
     "text": [
      "Accuracy (k=1): 0.9582\n",
      "Accuracy (k=3): 0.9524\n",
      "Accuracy (k=5): 0.9495\n",
      "Accuracy (k=10): 0.9407\n",
      "Accuracy (k=15): 0.9388\n",
      "Accuracy (k=20): 0.9232\n"
     ]
    }
   ],
   "source": [
    "\n",
    "for dataset_name in UCR_list:\n",
    "    print(f\"Processing UCR dataset: {dataset_name}\")\n",
    "    # Use the UCR-specific loader for datasets under data/UCR\n",
    "    X_train, y_train, X_test, y_test = load_ucr_dataset(\"../data/UCR\", dataset_name)\n",
    "    total_secs = 0\n",
    "    start = time.time()\n",
    "    results, knn_secs = run_knn(X_train, y_train, X_test, y_test, alg=\"FRT\")\n",
    "    total_secs += time.time() - start\n",
    "\n",
    "    out_path = Path(saved_path) / \"knn_frt_results_ucr2.csv\"\n",
    "    out_path.parent.mkdir(parents=True, exist_ok=True)\n",
    "\n",
    "    cols = ['dataset','acck=1','acck=3','acck=5','acck=10','acck=15','acck=20','build_tree_sec','distance_calc_sec', 'total_secs']\n",
    "    header_needed = not out_path.exists()\n",
    "\n",
    "    # normalize results to a list of 8 values (handle list/tuple/ndarray or dict)\n",
    "    if isinstance(results, dict):\n",
    "        keys = [1, 3, 5, 10, 15, 20, 'build_tree_sec', 'distance_calc_sec']\n",
    "        vals = [results.get(k, '') for k in keys]\n",
    "    else:\n",
    "        vals = list(results)\n",
    "        if len(vals) < 8:\n",
    "            vals += [''] * (8 - len(vals))\n",
    "        vals = vals[:8]\n",
    "\n",
    "    # append knn_secs to vals\n",
    "    knn_time_vals = [knn_secs.get(k, '') for k in [1, 3, 5, 10, 15, 20]]\n",
    "    with out_path.open('a', encoding='utf-8') as f:\n",
    "        if header_needed:\n",
    "            f.write(';'.join(cols) + '\\n')\n",
    "        f.write(';'.join([str(dataset_name)] + [str(v) for v in vals] + [str(total_secs)]) + '\\n')"
   ]
  },
  {
   "cell_type": "code",
   "execution_count": null,
   "id": "3bf34035",
   "metadata": {},
   "outputs": [
    {
     "name": "stdout",
     "output_type": "stream",
     "text": [
      "Processing Human Action dataset: MSRAction3D\n",
      "Successfully loaded dataset: MSRAction3D\n",
      "Size of train data: 270\n",
      "Size of test data: 297\n",
      "[FRT] time_weight=1721.251265 | depth_shift=5 | w_avg=1.826640 | points=23478\n"
     ]
    },
    {
     "name": "stderr",
     "output_type": "stream",
     "text": [
      "FRT measures: 100%|██████████| 567/567 [00:00<00:00, 94778.03it/s]\n",
      "FRT D_tr: 100%|██████████| 270/270 [03:54<00:00,  1.15it/s]\n",
      "FRT D_te: 100%|██████████| 297/297 [07:32<00:00,  1.53s/it]\n"
     ]
    },
    {
     "name": "stdout",
     "output_type": "stream",
     "text": [
      "Accuracy (k=1): 0.4276\n",
      "Accuracy (k=3): 0.4747\n",
      "Accuracy (k=5): 0.4545\n",
      "Accuracy (k=10): 0.4343\n",
      "Accuracy (k=15): 0.4377\n",
      "Accuracy (k=20): 0.3973\n",
      "Processing Human Action dataset: MSRDailyActivity3D\n",
      "Successfully loaded dataset: MSRDailyActivity3D\n",
      "Size of train data: 160\n",
      "Size of test data: 160\n"
     ]
    }
   ],
   "source": [
    "for dataset_name in Human_Action_list:\n",
    "    print(f\"Processing Human Action dataset: {dataset_name}\")\n",
    "    X_train, y_train, X_test, y_test = load_human_action_dataset(\"../data/Human_Actions\", dataset_name)\n",
    "    total_secs = 0\n",
    "    start = time.time()\n",
    "    results, knn_secs = run_knn(X_train, y_train, X_test, y_test, alg=\"FRT\")\n",
    "    total_secs += time.time() - start\n",
    "\n",
    "    out_path = Path(saved_path) / \"knn_frt_results_human_actions.csv\"\n",
    "    out_path.parent.mkdir(parents=True, exist_ok=True)\n",
    "\n",
    "    cols = ['dataset','acck=1','acck=3','acck=5','acck=10','acck=15','acck=20','build_tree_sec','distance_calc_sec','total_secs']\n",
    "    header_needed = not out_path.exists()\n",
    "\n",
    "    # normalize results to a list of 8 values (handle list/tuple/ndarray or dict)\n",
    "    if isinstance(results, dict):\n",
    "        keys = [1, 3, 5, 10, 15, 20, 'build_tree_sec', 'distance_calc_sec']\n",
    "        vals = [results.get(k, '') for k in keys]\n",
    "    else:\n",
    "        vals = list(results)\n",
    "        if len(vals) < 8:\n",
    "            vals += [''] * (8 - len(vals))\n",
    "        vals = vals[:8]\n",
    "\n",
    "    # append knn_secs to vals\n",
    "    knn_time_vals = [knn_secs.get(k, '') for k in [1, 3, 5, 10, 15, 20]]\n",
    "    with out_path.open('a', encoding='utf-8') as f:\n",
    "        if header_needed:\n",
    "            f.write(';'.join(cols) + '\\n')\n",
    "        f.write(';'.join([str(dataset_name)] + [str(v) for v in vals] + [str(total_secs)]) + '\\n')"
   ]
  }
 ],
 "metadata": {
  "kernelspec": {
   "display_name": "OT",
   "language": "python",
   "name": "python3"
  },
  "language_info": {
   "codemirror_mode": {
    "name": "ipython",
    "version": 3
   },
   "file_extension": ".py",
   "mimetype": "text/x-python",
   "name": "python",
   "nbconvert_exporter": "python",
   "pygments_lexer": "ipython3",
   "version": "3.10.18"
  }
 },
 "nbformat": 4,
 "nbformat_minor": 5
}
